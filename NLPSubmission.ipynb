{
 "cells": [
  {
   "cell_type": "code",
   "execution_count": 4,
   "id": "9d59dcf4-0dc4-477c-a4d6-afdc29406837",
   "metadata": {},
   "outputs": [
    {
     "data": {
      "text/html": [
       "<div>\n",
       "<style scoped>\n",
       "    .dataframe tbody tr th:only-of-type {\n",
       "        vertical-align: middle;\n",
       "    }\n",
       "\n",
       "    .dataframe tbody tr th {\n",
       "        vertical-align: top;\n",
       "    }\n",
       "\n",
       "    .dataframe thead th {\n",
       "        text-align: right;\n",
       "    }\n",
       "</style>\n",
       "<table border=\"1\" class=\"dataframe\">\n",
       "  <thead>\n",
       "    <tr style=\"text-align: right;\">\n",
       "      <th></th>\n",
       "      <th>id</th>\n",
       "      <th>keyword</th>\n",
       "      <th>location</th>\n",
       "      <th>text</th>\n",
       "      <th>target</th>\n",
       "    </tr>\n",
       "  </thead>\n",
       "  <tbody>\n",
       "    <tr>\n",
       "      <th>0</th>\n",
       "      <td>1</td>\n",
       "      <td>NaN</td>\n",
       "      <td>NaN</td>\n",
       "      <td>Our Deeds are the Reason of this #earthquake M...</td>\n",
       "      <td>1</td>\n",
       "    </tr>\n",
       "    <tr>\n",
       "      <th>1</th>\n",
       "      <td>4</td>\n",
       "      <td>NaN</td>\n",
       "      <td>NaN</td>\n",
       "      <td>Forest fire near La Ronge Sask. Canada</td>\n",
       "      <td>1</td>\n",
       "    </tr>\n",
       "    <tr>\n",
       "      <th>2</th>\n",
       "      <td>5</td>\n",
       "      <td>NaN</td>\n",
       "      <td>NaN</td>\n",
       "      <td>All residents asked to 'shelter in place' are ...</td>\n",
       "      <td>1</td>\n",
       "    </tr>\n",
       "    <tr>\n",
       "      <th>3</th>\n",
       "      <td>6</td>\n",
       "      <td>NaN</td>\n",
       "      <td>NaN</td>\n",
       "      <td>13,000 people receive #wildfires evacuation or...</td>\n",
       "      <td>1</td>\n",
       "    </tr>\n",
       "    <tr>\n",
       "      <th>4</th>\n",
       "      <td>7</td>\n",
       "      <td>NaN</td>\n",
       "      <td>NaN</td>\n",
       "      <td>Just got sent this photo from Ruby #Alaska as ...</td>\n",
       "      <td>1</td>\n",
       "    </tr>\n",
       "  </tbody>\n",
       "</table>\n",
       "</div>"
      ],
      "text/plain": [
       "   id keyword location                                               text  \\\n",
       "0   1     NaN      NaN  Our Deeds are the Reason of this #earthquake M...   \n",
       "1   4     NaN      NaN             Forest fire near La Ronge Sask. Canada   \n",
       "2   5     NaN      NaN  All residents asked to 'shelter in place' are ...   \n",
       "3   6     NaN      NaN  13,000 people receive #wildfires evacuation or...   \n",
       "4   7     NaN      NaN  Just got sent this photo from Ruby #Alaska as ...   \n",
       "\n",
       "   target  \n",
       "0       1  \n",
       "1       1  \n",
       "2       1  \n",
       "3       1  \n",
       "4       1  "
      ]
     },
     "execution_count": 4,
     "metadata": {},
     "output_type": "execute_result"
    }
   ],
   "source": [
    "import pandas as pd\n",
    "import numpy as np\n",
    "from sklearn.model_selection import train_test_split\n",
    "from tensorflow.keras.preprocessing.text import Tokenizer\n",
    "from tensorflow.keras.preprocessing.sequence import pad_sequences\n",
    "from tensorflow.keras.models import Sequential\n",
    "from tensorflow.keras.layers import Embedding, LSTM, Dense, Dropout\n",
    "from tensorflow.keras.optimizers import Adam\n",
    "\n",
    "# Load the data\n",
    "train_df = pd.read_csv(\"train.csv\")\n",
    "test_df = pd.read_csv(\"test.csv\")\n",
    "\n",
    "#train_df = train_df.dropna()\n",
    "\n",
    "# Preprocessing: fill NaNs and get text and target columns\n",
    "# train_df['text'] = train_df['text'].fillna('')\n",
    "# test_df['text'] = test_df['text'].fillna('')\n",
    "# X = train_df['text']\n",
    "# y = train_df['target']\n",
    "train_df.head()\n"
   ]
  },
  {
   "cell_type": "code",
   "execution_count": 79,
   "id": "29ac6e41-3227-45c2-96a3-27fe369b7311",
   "metadata": {},
   "outputs": [],
   "source": [
    "# train_df['keyword'].unique()\n",
    "# we're going to drop the location and id because I dont really think its necessary\n",
    "\n",
    "train_df = train_df.drop(columns=[\"id\", \"location\"])\n",
    "\n",
    "# Drop any rows with missing values in the 'text' or 'target' columns\n",
    "train_df = train_df.dropna(subset=['text', 'target'])"
   ]
  },
  {
   "cell_type": "code",
   "execution_count": 80,
   "id": "784c6246-5e0e-4bf1-a0b2-30fb56052b18",
   "metadata": {},
   "outputs": [
    {
     "name": "stdout",
     "output_type": "stream",
     "text": [
      "@bbcmtd Wholesale Markets ablaze http://t.co/lHYXEOHY6C\n",
      "t\n",
      "@bbcmtd Wholesale Markets ablaze \n",
      "@bbcmtd Wholesale Markets ablaze http://t.co/lHYXEOHY6C\n",
      "t\n",
      "@bbcmtd Wholesale Markets ablaze \n"
     ]
    }
   ],
   "source": [
    "# stole this from https://www.kaggle.com/code/kodaifukuda0311/disaster-tweets-classification-with-rnn-and-cnn\n",
    "# Preprocessing\n",
    "import re\n",
    "import string\n",
    "# Remove URL from the text\n",
    "def remove_URL(text):\n",
    "    url = re.compile(r'https?://\\S+|www\\.\\S+')\n",
    "    return url.sub(r'', text)\n",
    "\n",
    "pattern = re.compile(r'https?://(\\S+|www)\\.\\S+')\n",
    "for t in train_df.text:\n",
    "    matches = pattern.findall(t)\n",
    "    for match in matches:\n",
    "        print(t)\n",
    "        print(match)\n",
    "        print(pattern.sub(r'', t))\n",
    "    if len(matches) > 0:\n",
    "        break\n",
    "\n",
    "#Remove puctuations\n",
    "def remove_punct(text):\n",
    "    translator = str.maketrans('', '', string.punctuation) # Create a translation table to delete all punctuation\n",
    "    return text.translate(translator) # Use this translation table to transform the text by removing punctuation characters\n",
    "\n",
    "#pattern = re.compile(r'https?://(\\S+|www)\\.\\S+')\n",
    "for t in train_df.text:\n",
    "    matches = pattern.findall(t)\n",
    "    for match in matches:\n",
    "        print(t)\n",
    "        print(match)\n",
    "        print(pattern.sub(r'', t))\n",
    "    if len(matches) > 0:\n",
    "        break\n",
    "\n",
    "# Apply the functions\n",
    "train_df['text'] = train_df.text.map(remove_URL) # map(lambda x : remove_URL(x))\n",
    "train_df['text'] = train_df.text.map(remove_punct)"
   ]
  },
  {
   "cell_type": "code",
   "execution_count": 81,
   "id": "7db63a4c-1803-4f48-9d3e-ab17e9f58b43",
   "metadata": {},
   "outputs": [],
   "source": [
    "#count the number of unique words\n",
    "\n",
    "def count_words(sent):\n",
    "    unique_words = set()\n",
    "    for s in sent.values:\n",
    "        for word in s.split():\n",
    "            unique_words.add(word)\n",
    "    return len(unique_words)"
   ]
  },
  {
   "cell_type": "code",
   "execution_count": 82,
   "id": "dcfa7408-dfaf-46ce-a447-8cb6fd2985db",
   "metadata": {},
   "outputs": [
    {
     "name": "stdout",
     "output_type": "stream",
     "text": [
      "17203\n"
     ]
    }
   ],
   "source": [
    "unique_words = count_words(train_df.text)\n",
    "print(unique_words)"
   ]
  },
  {
   "cell_type": "code",
   "execution_count": 83,
   "id": "268e1782-077e-495d-b84c-11280a101c78",
   "metadata": {},
   "outputs": [],
   "source": [
    "# Use 'text' as input (X) and 'target' as output (y)\n",
    "X = train_df['text']\n",
    "y = train_df['target']\n",
    "\n",
    "X_train, X_val, y_train, y_val = train_test_split(X, y, test_size=0.2, random_state=0)\n",
    "\n",
    "X_train = np.array(X_train)\n",
    "X_val = np.array(X_val)\n",
    "y_train = np.array(y_train)\n",
    "y_val = np.array(y_val)"
   ]
  },
  {
   "cell_type": "code",
   "execution_count": 84,
   "id": "d7a0c004-97ba-448b-a267-9018668170fd",
   "metadata": {},
   "outputs": [
    {
     "name": "stdout",
     "output_type": "stream",
     "text": [
      "[' Had a personalinjury accident this summer Read our advice amp see how a solicitor can help OtleyHour'\n",
      " 'Sometimes logic gets drowned out in emotion but its gotta surface at some point']\n",
      "[[95, 2, 4485, 112, 18, 395, 161, 102, 4486, 33, 84, 63, 2, 2938, 73, 152, 4487], [1155, 2939, 598, 555, 36, 3, 4488, 26, 42, 1787, 2210, 16, 77, 955]]\n"
     ]
    }
   ],
   "source": [
    "# Tokenize the text\n",
    "#tokenizer = Tokenizer(num_words=5000, oov_token=\"<OOV>\")\n",
    "tokenizer = Tokenizer(num_words=unique_words)\n",
    "tokenizer.fit_on_texts(X_train)\n",
    "\n",
    "x_seq = tokenizer.texts_to_sequences(X_train)\n",
    "val_seq = tokenizer.texts_to_sequences(X_val)\n",
    "\n",
    "X_pad = pad_sequences(x_seq, padding='post', maxlen=100)\n",
    "\n",
    "\n",
    "print(X_train[1:3])\n",
    "print(x_seq[1:3])"
   ]
  },
  {
   "cell_type": "code",
   "execution_count": null,
   "id": "e9e177b1-c352-424f-a02b-c1ff8751d1ff",
   "metadata": {},
   "outputs": [],
   "source": []
  }
 ],
 "metadata": {
  "kernelspec": {
   "display_name": "Python 3 (ipykernel)",
   "language": "python",
   "name": "python3"
  },
  "language_info": {
   "codemirror_mode": {
    "name": "ipython",
    "version": 3
   },
   "file_extension": ".py",
   "mimetype": "text/x-python",
   "name": "python",
   "nbconvert_exporter": "python",
   "pygments_lexer": "ipython3",
   "version": "3.10.12"
  }
 },
 "nbformat": 4,
 "nbformat_minor": 5
}
